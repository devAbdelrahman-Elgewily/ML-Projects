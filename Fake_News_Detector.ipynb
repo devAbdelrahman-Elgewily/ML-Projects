{
 "cells": [
  {
   "cell_type": "markdown",
   "metadata": {
    "id": "c48e4ItfCzX2"
   },
   "source": [
    "Fake News Detector model"
   ]
  },
  {
   "cell_type": "code",
   "execution_count": 13,
   "metadata": {
    "id": "8VO7mHGkCzN_"
   },
   "outputs": [],
   "source": [
    "import numpy as np\n",
    "import pandas as pd\n",
    "\n",
    "from sklearn.model_selection import train_test_split\n",
    "from sklearn.feature_extraction.text import TfidfVectorizer\n",
    "from sklearn.svm import LinearSVC"
   ]
  },
  {
   "cell_type": "code",
   "execution_count": 14,
   "metadata": {
    "id": "7Qr84tWnEalw"
   },
   "outputs": [],
   "source": [
    "data = pd.read_csv(r\"D:\\Studies\\Ai Projects\\1 Fake News Detector\\fake_or_real_news.csv\")"
   ]
  },
  {
   "cell_type": "code",
   "execution_count": 15,
   "metadata": {
    "id": "ZK0WRaDsEvTe"
   },
   "outputs": [],
   "source": [
    "data['fake'] = data['label'].apply(lambda x: 0 if x == 'REAL' else 1)"
   ]
  },
  {
   "cell_type": "code",
   "execution_count": 16,
   "metadata": {
    "id": "IP7_RYaTEysk"
   },
   "outputs": [],
   "source": [
    "data = data.drop('label', axis=1)"
   ]
  },
  {
   "cell_type": "code",
   "execution_count": 17,
   "metadata": {
    "id": "Flkx7fkKFSEn"
   },
   "outputs": [],
   "source": [
    "x, y = data['text'], data['fake']"
   ]
  },
  {
   "cell_type": "code",
   "execution_count": 18,
   "metadata": {
    "colab": {
     "base_uri": "https://localhost:8080/",
     "height": 458
    },
    "id": "xaOs8pU5FSsy",
    "outputId": "edf674ec-39bd-481a-f09a-a549cd89b5a3"
   },
   "outputs": [
    {
     "data": {
      "text/plain": [
       "0       Daniel Greenfield, a Shillman Journalism Fello...\n",
       "1       Google Pinterest Digg Linkedin Reddit Stumbleu...\n",
       "2       U.S. Secretary of State John F. Kerry said Mon...\n",
       "3       — Kaydee King (@KaydeeKing) November 9, 2016 T...\n",
       "4       It's primary day in New York and front-runners...\n",
       "                              ...                        \n",
       "6330    The State Department told the Republican Natio...\n",
       "6331    The ‘P’ in PBS Should Stand for ‘Plutocratic’ ...\n",
       "6332     Anti-Trump Protesters Are Tools of the Oligar...\n",
       "6333    ADDIS ABABA, Ethiopia —President Obama convene...\n",
       "6334    Jeb Bush Is Suddenly Attacking Trump. Here's W...\n",
       "Name: text, Length: 6335, dtype: object"
      ]
     },
     "execution_count": 18,
     "metadata": {},
     "output_type": "execute_result"
    }
   ],
   "source": [
    "x"
   ]
  },
  {
   "cell_type": "code",
   "execution_count": 19,
   "metadata": {
    "colab": {
     "base_uri": "https://localhost:8080/",
     "height": 458
    },
    "id": "7puMFv-mFgC_",
    "outputId": "90efd442-f2a0-49cf-b492-e4f08e706259"
   },
   "outputs": [
    {
     "data": {
      "text/plain": [
       "0       1\n",
       "1       1\n",
       "2       0\n",
       "3       1\n",
       "4       0\n",
       "       ..\n",
       "6330    0\n",
       "6331    1\n",
       "6332    1\n",
       "6333    0\n",
       "6334    0\n",
       "Name: fake, Length: 6335, dtype: int64"
      ]
     },
     "execution_count": 19,
     "metadata": {},
     "output_type": "execute_result"
    }
   ],
   "source": [
    "y"
   ]
  },
  {
   "cell_type": "code",
   "execution_count": 20,
   "metadata": {
    "id": "jzW4PIraFiGD"
   },
   "outputs": [],
   "source": [
    "x_train , x_test, y_train, y_test = train_test_split(x, y, test_size=0.2)"
   ]
  },
  {
   "cell_type": "code",
   "execution_count": 27,
   "metadata": {
    "id": "1ctHANlDGNVj"
   },
   "outputs": [],
   "source": [
    "vectorizer = TfidfVectorizer(stop_words='english', max_df=0.7)\n",
    "x_train_vectorized = vectorizer.fit_transform(x_train)\n",
    "x_test_vectorized = vectorizer.transform(x_test)"
   ]
  },
  {
   "cell_type": "code",
   "execution_count": 28,
   "metadata": {
    "colab": {
     "base_uri": "https://localhost:8080/",
     "height": 80
    },
    "id": "gZewc7qJG_1h",
    "outputId": "ea93d03f-e68c-43dd-d0f9-f4910ce8f1b6"
   },
   "outputs": [
    {
     "data": {
      "text/html": [
       "<style>#sk-container-id-3 {\n",
       "  /* Definition of color scheme common for light and dark mode */\n",
       "  --sklearn-color-text: black;\n",
       "  --sklearn-color-line: gray;\n",
       "  /* Definition of color scheme for unfitted estimators */\n",
       "  --sklearn-color-unfitted-level-0: #fff5e6;\n",
       "  --sklearn-color-unfitted-level-1: #f6e4d2;\n",
       "  --sklearn-color-unfitted-level-2: #ffe0b3;\n",
       "  --sklearn-color-unfitted-level-3: chocolate;\n",
       "  /* Definition of color scheme for fitted estimators */\n",
       "  --sklearn-color-fitted-level-0: #f0f8ff;\n",
       "  --sklearn-color-fitted-level-1: #d4ebff;\n",
       "  --sklearn-color-fitted-level-2: #b3dbfd;\n",
       "  --sklearn-color-fitted-level-3: cornflowerblue;\n",
       "\n",
       "  /* Specific color for light theme */\n",
       "  --sklearn-color-text-on-default-background: var(--sg-text-color, var(--theme-code-foreground, var(--jp-content-font-color1, black)));\n",
       "  --sklearn-color-background: var(--sg-background-color, var(--theme-background, var(--jp-layout-color0, white)));\n",
       "  --sklearn-color-border-box: var(--sg-text-color, var(--theme-code-foreground, var(--jp-content-font-color1, black)));\n",
       "  --sklearn-color-icon: #696969;\n",
       "\n",
       "  @media (prefers-color-scheme: dark) {\n",
       "    /* Redefinition of color scheme for dark theme */\n",
       "    --sklearn-color-text-on-default-background: var(--sg-text-color, var(--theme-code-foreground, var(--jp-content-font-color1, white)));\n",
       "    --sklearn-color-background: var(--sg-background-color, var(--theme-background, var(--jp-layout-color0, #111)));\n",
       "    --sklearn-color-border-box: var(--sg-text-color, var(--theme-code-foreground, var(--jp-content-font-color1, white)));\n",
       "    --sklearn-color-icon: #878787;\n",
       "  }\n",
       "}\n",
       "\n",
       "#sk-container-id-3 {\n",
       "  color: var(--sklearn-color-text);\n",
       "}\n",
       "\n",
       "#sk-container-id-3 pre {\n",
       "  padding: 0;\n",
       "}\n",
       "\n",
       "#sk-container-id-3 input.sk-hidden--visually {\n",
       "  border: 0;\n",
       "  clip: rect(1px 1px 1px 1px);\n",
       "  clip: rect(1px, 1px, 1px, 1px);\n",
       "  height: 1px;\n",
       "  margin: -1px;\n",
       "  overflow: hidden;\n",
       "  padding: 0;\n",
       "  position: absolute;\n",
       "  width: 1px;\n",
       "}\n",
       "\n",
       "#sk-container-id-3 div.sk-dashed-wrapped {\n",
       "  border: 1px dashed var(--sklearn-color-line);\n",
       "  margin: 0 0.4em 0.5em 0.4em;\n",
       "  box-sizing: border-box;\n",
       "  padding-bottom: 0.4em;\n",
       "  background-color: var(--sklearn-color-background);\n",
       "}\n",
       "\n",
       "#sk-container-id-3 div.sk-container {\n",
       "  /* jupyter's `normalize.less` sets `[hidden] { display: none; }`\n",
       "     but bootstrap.min.css set `[hidden] { display: none !important; }`\n",
       "     so we also need the `!important` here to be able to override the\n",
       "     default hidden behavior on the sphinx rendered scikit-learn.org.\n",
       "     See: https://github.com/scikit-learn/scikit-learn/issues/21755 */\n",
       "  display: inline-block !important;\n",
       "  position: relative;\n",
       "}\n",
       "\n",
       "#sk-container-id-3 div.sk-text-repr-fallback {\n",
       "  display: none;\n",
       "}\n",
       "\n",
       "div.sk-parallel-item,\n",
       "div.sk-serial,\n",
       "div.sk-item {\n",
       "  /* draw centered vertical line to link estimators */\n",
       "  background-image: linear-gradient(var(--sklearn-color-text-on-default-background), var(--sklearn-color-text-on-default-background));\n",
       "  background-size: 2px 100%;\n",
       "  background-repeat: no-repeat;\n",
       "  background-position: center center;\n",
       "}\n",
       "\n",
       "/* Parallel-specific style estimator block */\n",
       "\n",
       "#sk-container-id-3 div.sk-parallel-item::after {\n",
       "  content: \"\";\n",
       "  width: 100%;\n",
       "  border-bottom: 2px solid var(--sklearn-color-text-on-default-background);\n",
       "  flex-grow: 1;\n",
       "}\n",
       "\n",
       "#sk-container-id-3 div.sk-parallel {\n",
       "  display: flex;\n",
       "  align-items: stretch;\n",
       "  justify-content: center;\n",
       "  background-color: var(--sklearn-color-background);\n",
       "  position: relative;\n",
       "}\n",
       "\n",
       "#sk-container-id-3 div.sk-parallel-item {\n",
       "  display: flex;\n",
       "  flex-direction: column;\n",
       "}\n",
       "\n",
       "#sk-container-id-3 div.sk-parallel-item:first-child::after {\n",
       "  align-self: flex-end;\n",
       "  width: 50%;\n",
       "}\n",
       "\n",
       "#sk-container-id-3 div.sk-parallel-item:last-child::after {\n",
       "  align-self: flex-start;\n",
       "  width: 50%;\n",
       "}\n",
       "\n",
       "#sk-container-id-3 div.sk-parallel-item:only-child::after {\n",
       "  width: 0;\n",
       "}\n",
       "\n",
       "/* Serial-specific style estimator block */\n",
       "\n",
       "#sk-container-id-3 div.sk-serial {\n",
       "  display: flex;\n",
       "  flex-direction: column;\n",
       "  align-items: center;\n",
       "  background-color: var(--sklearn-color-background);\n",
       "  padding-right: 1em;\n",
       "  padding-left: 1em;\n",
       "}\n",
       "\n",
       "\n",
       "/* Toggleable style: style used for estimator/Pipeline/ColumnTransformer box that is\n",
       "clickable and can be expanded/collapsed.\n",
       "- Pipeline and ColumnTransformer use this feature and define the default style\n",
       "- Estimators will overwrite some part of the style using the `sk-estimator` class\n",
       "*/\n",
       "\n",
       "/* Pipeline and ColumnTransformer style (default) */\n",
       "\n",
       "#sk-container-id-3 div.sk-toggleable {\n",
       "  /* Default theme specific background. It is overwritten whether we have a\n",
       "  specific estimator or a Pipeline/ColumnTransformer */\n",
       "  background-color: var(--sklearn-color-background);\n",
       "}\n",
       "\n",
       "/* Toggleable label */\n",
       "#sk-container-id-3 label.sk-toggleable__label {\n",
       "  cursor: pointer;\n",
       "  display: block;\n",
       "  width: 100%;\n",
       "  margin-bottom: 0;\n",
       "  padding: 0.5em;\n",
       "  box-sizing: border-box;\n",
       "  text-align: center;\n",
       "}\n",
       "\n",
       "#sk-container-id-3 label.sk-toggleable__label-arrow:before {\n",
       "  /* Arrow on the left of the label */\n",
       "  content: \"▸\";\n",
       "  float: left;\n",
       "  margin-right: 0.25em;\n",
       "  color: var(--sklearn-color-icon);\n",
       "}\n",
       "\n",
       "#sk-container-id-3 label.sk-toggleable__label-arrow:hover:before {\n",
       "  color: var(--sklearn-color-text);\n",
       "}\n",
       "\n",
       "/* Toggleable content - dropdown */\n",
       "\n",
       "#sk-container-id-3 div.sk-toggleable__content {\n",
       "  max-height: 0;\n",
       "  max-width: 0;\n",
       "  overflow: hidden;\n",
       "  text-align: left;\n",
       "  /* unfitted */\n",
       "  background-color: var(--sklearn-color-unfitted-level-0);\n",
       "}\n",
       "\n",
       "#sk-container-id-3 div.sk-toggleable__content.fitted {\n",
       "  /* fitted */\n",
       "  background-color: var(--sklearn-color-fitted-level-0);\n",
       "}\n",
       "\n",
       "#sk-container-id-3 div.sk-toggleable__content pre {\n",
       "  margin: 0.2em;\n",
       "  border-radius: 0.25em;\n",
       "  color: var(--sklearn-color-text);\n",
       "  /* unfitted */\n",
       "  background-color: var(--sklearn-color-unfitted-level-0);\n",
       "}\n",
       "\n",
       "#sk-container-id-3 div.sk-toggleable__content.fitted pre {\n",
       "  /* unfitted */\n",
       "  background-color: var(--sklearn-color-fitted-level-0);\n",
       "}\n",
       "\n",
       "#sk-container-id-3 input.sk-toggleable__control:checked~div.sk-toggleable__content {\n",
       "  /* Expand drop-down */\n",
       "  max-height: 200px;\n",
       "  max-width: 100%;\n",
       "  overflow: auto;\n",
       "}\n",
       "\n",
       "#sk-container-id-3 input.sk-toggleable__control:checked~label.sk-toggleable__label-arrow:before {\n",
       "  content: \"▾\";\n",
       "}\n",
       "\n",
       "/* Pipeline/ColumnTransformer-specific style */\n",
       "\n",
       "#sk-container-id-3 div.sk-label input.sk-toggleable__control:checked~label.sk-toggleable__label {\n",
       "  color: var(--sklearn-color-text);\n",
       "  background-color: var(--sklearn-color-unfitted-level-2);\n",
       "}\n",
       "\n",
       "#sk-container-id-3 div.sk-label.fitted input.sk-toggleable__control:checked~label.sk-toggleable__label {\n",
       "  background-color: var(--sklearn-color-fitted-level-2);\n",
       "}\n",
       "\n",
       "/* Estimator-specific style */\n",
       "\n",
       "/* Colorize estimator box */\n",
       "#sk-container-id-3 div.sk-estimator input.sk-toggleable__control:checked~label.sk-toggleable__label {\n",
       "  /* unfitted */\n",
       "  background-color: var(--sklearn-color-unfitted-level-2);\n",
       "}\n",
       "\n",
       "#sk-container-id-3 div.sk-estimator.fitted input.sk-toggleable__control:checked~label.sk-toggleable__label {\n",
       "  /* fitted */\n",
       "  background-color: var(--sklearn-color-fitted-level-2);\n",
       "}\n",
       "\n",
       "#sk-container-id-3 div.sk-label label.sk-toggleable__label,\n",
       "#sk-container-id-3 div.sk-label label {\n",
       "  /* The background is the default theme color */\n",
       "  color: var(--sklearn-color-text-on-default-background);\n",
       "}\n",
       "\n",
       "/* On hover, darken the color of the background */\n",
       "#sk-container-id-3 div.sk-label:hover label.sk-toggleable__label {\n",
       "  color: var(--sklearn-color-text);\n",
       "  background-color: var(--sklearn-color-unfitted-level-2);\n",
       "}\n",
       "\n",
       "/* Label box, darken color on hover, fitted */\n",
       "#sk-container-id-3 div.sk-label.fitted:hover label.sk-toggleable__label.fitted {\n",
       "  color: var(--sklearn-color-text);\n",
       "  background-color: var(--sklearn-color-fitted-level-2);\n",
       "}\n",
       "\n",
       "/* Estimator label */\n",
       "\n",
       "#sk-container-id-3 div.sk-label label {\n",
       "  font-family: monospace;\n",
       "  font-weight: bold;\n",
       "  display: inline-block;\n",
       "  line-height: 1.2em;\n",
       "}\n",
       "\n",
       "#sk-container-id-3 div.sk-label-container {\n",
       "  text-align: center;\n",
       "}\n",
       "\n",
       "/* Estimator-specific */\n",
       "#sk-container-id-3 div.sk-estimator {\n",
       "  font-family: monospace;\n",
       "  border: 1px dotted var(--sklearn-color-border-box);\n",
       "  border-radius: 0.25em;\n",
       "  box-sizing: border-box;\n",
       "  margin-bottom: 0.5em;\n",
       "  /* unfitted */\n",
       "  background-color: var(--sklearn-color-unfitted-level-0);\n",
       "}\n",
       "\n",
       "#sk-container-id-3 div.sk-estimator.fitted {\n",
       "  /* fitted */\n",
       "  background-color: var(--sklearn-color-fitted-level-0);\n",
       "}\n",
       "\n",
       "/* on hover */\n",
       "#sk-container-id-3 div.sk-estimator:hover {\n",
       "  /* unfitted */\n",
       "  background-color: var(--sklearn-color-unfitted-level-2);\n",
       "}\n",
       "\n",
       "#sk-container-id-3 div.sk-estimator.fitted:hover {\n",
       "  /* fitted */\n",
       "  background-color: var(--sklearn-color-fitted-level-2);\n",
       "}\n",
       "\n",
       "/* Specification for estimator info (e.g. \"i\" and \"?\") */\n",
       "\n",
       "/* Common style for \"i\" and \"?\" */\n",
       "\n",
       ".sk-estimator-doc-link,\n",
       "a:link.sk-estimator-doc-link,\n",
       "a:visited.sk-estimator-doc-link {\n",
       "  float: right;\n",
       "  font-size: smaller;\n",
       "  line-height: 1em;\n",
       "  font-family: monospace;\n",
       "  background-color: var(--sklearn-color-background);\n",
       "  border-radius: 1em;\n",
       "  height: 1em;\n",
       "  width: 1em;\n",
       "  text-decoration: none !important;\n",
       "  margin-left: 1ex;\n",
       "  /* unfitted */\n",
       "  border: var(--sklearn-color-unfitted-level-1) 1pt solid;\n",
       "  color: var(--sklearn-color-unfitted-level-1);\n",
       "}\n",
       "\n",
       ".sk-estimator-doc-link.fitted,\n",
       "a:link.sk-estimator-doc-link.fitted,\n",
       "a:visited.sk-estimator-doc-link.fitted {\n",
       "  /* fitted */\n",
       "  border: var(--sklearn-color-fitted-level-1) 1pt solid;\n",
       "  color: var(--sklearn-color-fitted-level-1);\n",
       "}\n",
       "\n",
       "/* On hover */\n",
       "div.sk-estimator:hover .sk-estimator-doc-link:hover,\n",
       ".sk-estimator-doc-link:hover,\n",
       "div.sk-label-container:hover .sk-estimator-doc-link:hover,\n",
       ".sk-estimator-doc-link:hover {\n",
       "  /* unfitted */\n",
       "  background-color: var(--sklearn-color-unfitted-level-3);\n",
       "  color: var(--sklearn-color-background);\n",
       "  text-decoration: none;\n",
       "}\n",
       "\n",
       "div.sk-estimator.fitted:hover .sk-estimator-doc-link.fitted:hover,\n",
       ".sk-estimator-doc-link.fitted:hover,\n",
       "div.sk-label-container:hover .sk-estimator-doc-link.fitted:hover,\n",
       ".sk-estimator-doc-link.fitted:hover {\n",
       "  /* fitted */\n",
       "  background-color: var(--sklearn-color-fitted-level-3);\n",
       "  color: var(--sklearn-color-background);\n",
       "  text-decoration: none;\n",
       "}\n",
       "\n",
       "/* Span, style for the box shown on hovering the info icon */\n",
       ".sk-estimator-doc-link span {\n",
       "  display: none;\n",
       "  z-index: 9999;\n",
       "  position: relative;\n",
       "  font-weight: normal;\n",
       "  right: .2ex;\n",
       "  padding: .5ex;\n",
       "  margin: .5ex;\n",
       "  width: min-content;\n",
       "  min-width: 20ex;\n",
       "  max-width: 50ex;\n",
       "  color: var(--sklearn-color-text);\n",
       "  box-shadow: 2pt 2pt 4pt #999;\n",
       "  /* unfitted */\n",
       "  background: var(--sklearn-color-unfitted-level-0);\n",
       "  border: .5pt solid var(--sklearn-color-unfitted-level-3);\n",
       "}\n",
       "\n",
       ".sk-estimator-doc-link.fitted span {\n",
       "  /* fitted */\n",
       "  background: var(--sklearn-color-fitted-level-0);\n",
       "  border: var(--sklearn-color-fitted-level-3);\n",
       "}\n",
       "\n",
       ".sk-estimator-doc-link:hover span {\n",
       "  display: block;\n",
       "}\n",
       "\n",
       "/* \"?\"-specific style due to the `<a>` HTML tag */\n",
       "\n",
       "#sk-container-id-3 a.estimator_doc_link {\n",
       "  float: right;\n",
       "  font-size: 1rem;\n",
       "  line-height: 1em;\n",
       "  font-family: monospace;\n",
       "  background-color: var(--sklearn-color-background);\n",
       "  border-radius: 1rem;\n",
       "  height: 1rem;\n",
       "  width: 1rem;\n",
       "  text-decoration: none;\n",
       "  /* unfitted */\n",
       "  color: var(--sklearn-color-unfitted-level-1);\n",
       "  border: var(--sklearn-color-unfitted-level-1) 1pt solid;\n",
       "}\n",
       "\n",
       "#sk-container-id-3 a.estimator_doc_link.fitted {\n",
       "  /* fitted */\n",
       "  border: var(--sklearn-color-fitted-level-1) 1pt solid;\n",
       "  color: var(--sklearn-color-fitted-level-1);\n",
       "}\n",
       "\n",
       "/* On hover */\n",
       "#sk-container-id-3 a.estimator_doc_link:hover {\n",
       "  /* unfitted */\n",
       "  background-color: var(--sklearn-color-unfitted-level-3);\n",
       "  color: var(--sklearn-color-background);\n",
       "  text-decoration: none;\n",
       "}\n",
       "\n",
       "#sk-container-id-3 a.estimator_doc_link.fitted:hover {\n",
       "  /* fitted */\n",
       "  background-color: var(--sklearn-color-fitted-level-3);\n",
       "}\n",
       "</style><div id=\"sk-container-id-3\" class=\"sk-top-container\"><div class=\"sk-text-repr-fallback\"><pre>LinearSVC()</pre><b>In a Jupyter environment, please rerun this cell to show the HTML representation or trust the notebook. <br />On GitHub, the HTML representation is unable to render, please try loading this page with nbviewer.org.</b></div><div class=\"sk-container\" hidden><div class=\"sk-item\"><div class=\"sk-estimator fitted sk-toggleable\"><input class=\"sk-toggleable__control sk-hidden--visually\" id=\"sk-estimator-id-3\" type=\"checkbox\" checked><label for=\"sk-estimator-id-3\" class=\"sk-toggleable__label fitted sk-toggleable__label-arrow fitted\">&nbsp;&nbsp;LinearSVC<a class=\"sk-estimator-doc-link fitted\" rel=\"noreferrer\" target=\"_blank\" href=\"https://scikit-learn.org/1.5/modules/generated/sklearn.svm.LinearSVC.html\">?<span>Documentation for LinearSVC</span></a><span class=\"sk-estimator-doc-link fitted\">i<span>Fitted</span></span></label><div class=\"sk-toggleable__content fitted\"><pre>LinearSVC()</pre></div> </div></div></div></div>"
      ],
      "text/plain": [
       "LinearSVC()"
      ]
     },
     "execution_count": 28,
     "metadata": {},
     "output_type": "execute_result"
    }
   ],
   "source": [
    "clf = LinearSVC()\n",
    "clf.fit(x_train_vectorized, y_train)"
   ]
  },
  {
   "cell_type": "code",
   "execution_count": 29,
   "metadata": {
    "colab": {
     "base_uri": "https://localhost:8080/"
    },
    "id": "5OHsJSS0HSCP",
    "outputId": "081984e7-2bee-4489-8f48-594e829116e4"
   },
   "outputs": [
    {
     "data": {
      "text/plain": [
       "0.9392265193370166"
      ]
     },
     "execution_count": 29,
     "metadata": {},
     "output_type": "execute_result"
    }
   ],
   "source": [
    "clf.score(x_test_vectorized, y_test)"
   ]
  },
  {
   "cell_type": "markdown",
   "metadata": {},
   "source": [
    "## test the model"
   ]
  },
  {
   "cell_type": "markdown",
   "metadata": {},
   "source": [
    "### trial 1"
   ]
  },
  {
   "cell_type": "code",
   "execution_count": 31,
   "metadata": {
    "id": "fdJTgFp3HV8l"
   },
   "outputs": [
    {
     "name": "stdout",
     "output_type": "stream",
     "text": [
      "Prediction: FAKE\n",
      "Confidence (distance from boundary): 1.09\n"
     ]
    }
   ],
   "source": [
    "# ─── New Cell: Simple Fake/Real Tester ───────────────────────────────────────\n",
    "\n",
    "# Define the tester using your existing names:\n",
    "def predict_fake_or_real(text: str):\n",
    "    \"\"\"\n",
    "    Vectorizes a single string and returns:\n",
    "      - label: 'REAL' or 'FAKE'\n",
    "      - score: distance from the SVM hyperplane (larger magnitude = more confident)\n",
    "    \"\"\"\n",
    "    X = vectorizer.transform([text])\n",
    "    pred = clf.predict(X)[0]\n",
    "    label = 'FAKE' if pred == 1 else 'REAL'\n",
    "    score = None\n",
    "    if hasattr(clf, 'decision_function'):\n",
    "        score = clf.decision_function(X)[0]\n",
    "    return label, score\n",
    "\n",
    "# Sample “obviously fake” news article\n",
    "sample_article = \"\"\"\n",
    "BREAKING: Scientists Uncover Evidence That the Moon Is Actually Hollow\n",
    "\n",
    "In a groundbreaking discovery announced today, a coalition of top astrophysicists revealed data suggesting the Moon is mostly hollow. According to Dr. Helena Marsden, lead researcher at the International Space Observatory, seismic readings from the Apollo missions indicate vast empty chambers beneath the lunar surface. “We’ve never seen anything like it,” Marsden said. “The Moon’s internal structure defies all current geological models.”\n",
    "\n",
    "The team speculates these chambers were carved out by an ancient alien civilization, and that the Moon is in fact a giant observatory left behind to watch over Earth. Conspiracy theorists are already calling this “the proof” of extraterrestrial involvement in human history. The U.S. and Russia have both denied any prior knowledge of such findings, but are reportedly sending new missions to investigate further.\n",
    "\"\"\"\n",
    "\n",
    "# Run the test\n",
    "label, score = predict_fake_or_real(sample_article)\n",
    "print(f\"Prediction: {label}\")\n",
    "if score is not None:\n",
    "    print(f\"Confidence (distance from boundary): {score:.2f}\")"
   ]
  },
  {
   "cell_type": "code",
   "execution_count": 32,
   "metadata": {},
   "outputs": [
    {
     "name": "stdout",
     "output_type": "stream",
     "text": [
      "Prediction: FAKE\n",
      "Confidence (distance from boundary): 0.02\n"
     ]
    }
   ],
   "source": [
    "sample_article = \"\"\"\n",
    "U.S. AND CHINA AGREE TO BOOST CLIMATE ACTION\n",
    "\n",
    "Washington, May 10 (Reuters) – The United States and China announced on Friday a joint initiative to curb greenhouse gas emissions, marking a significant step forward in global climate talks. Under the pact, both countries will increase their commitments under the Paris Agreement, with the U.S. aiming to cut emissions by 50% below 2005 levels by 2030 and China targeting carbon neutrality by 2060.\n",
    "\n",
    "Speaking at the White House, President Jane Doe said, “This partnership with China demonstrates that even the world’s largest economies can come together to tackle the climate crisis.” Chinese Premier Li Wei, joining via video link, added that “cooperation is the only path to safeguarding our planet for future generations.”\n",
    "\n",
    "The agreement covers clean energy technology sharing, joint research into carbon capture and storage, and funding for sustainable development in vulnerable nations. Negotiators said they hope this U.S.-China framework will encourage other major emitters to raise their ambitions at the upcoming COP31 summit in Glasgow.\n",
    "\"\"\"\n",
    "\n",
    "label, score = predict_fake_or_real(sample_article)\n",
    "print(f\"Prediction: {label}\")\n",
    "if score is not None:\n",
    "    print(f\"Confidence (distance from boundary): {score:.2f}\")\n"
   ]
  },
  {
   "cell_type": "markdown",
   "metadata": {},
   "source": [
    "### Trial 2"
   ]
  },
  {
   "cell_type": "code",
   "execution_count": 36,
   "metadata": {},
   "outputs": [
    {
     "name": "stdout",
     "output_type": "stream",
     "text": [
      "Classifier recalibrated for probability outputs.\n",
      "\n"
     ]
    }
   ],
   "source": [
    "from sklearn.calibration import CalibratedClassifierCV\n",
    "from sklearn.metrics import classification_report, confusion_matrix\n",
    "\n",
    "# 1) Calibrate your existing clf to get predict_proba\n",
    "#    Note: use `estimator=` instead of `base_estimator`\n",
    "clf = CalibratedClassifierCV(estimator=clf, cv=5)\n",
    "clf.fit(x_train_vectorized, y_train)\n",
    "print(\"Classifier recalibrated for probability outputs.\\n\")"
   ]
  },
  {
   "cell_type": "code",
   "execution_count": 37,
   "metadata": {},
   "outputs": [],
   "source": [
    "# 2) New tester that returns probabilities\n",
    "def predict_fake_or_real(text: str, threshold: float = 0.5):\n",
    "    \"\"\"\n",
    "    Returns:\n",
    "      - label: 'REAL' or 'FAKE'\n",
    "      - proba: array [P(REAL), P(FAKE)]\n",
    "    \"\"\"\n",
    "    X = vectorizer.transform([text])\n",
    "    proba = clf.predict_proba(X)[0]\n",
    "    label = 'FAKE' if proba[1] >= threshold else 'REAL'\n",
    "    return label, proba"
   ]
  },
  {
   "cell_type": "code",
   "execution_count": 38,
   "metadata": {},
   "outputs": [
    {
     "name": "stdout",
     "output_type": "stream",
     "text": [
      "Sample Fake Article → Prediction: FAKE\n",
      "P(REAL) = 0.01, P(FAKE) = 0.99\n",
      "\n"
     ]
    }
   ],
   "source": [
    "# 3) Test on your sample fake article\n",
    "sample_article = \"\"\"\n",
    "BREAKING: Scientists Uncover Evidence That the Moon Is Actually Hollow\n",
    "\n",
    "In a groundbreaking discovery announced today, a coalition of top astrophysicists revealed data suggesting the Moon is mostly hollow. According to Dr. Helena Marsden, lead researcher at the International Space Observatory, seismic readings from the Apollo missions indicate vast empty chambers beneath the lunar surface. “We’ve never seen anything like it,” Marsden said. “The Moon’s internal structure defies all current geological models.”\n",
    "\n",
    "The team speculates these chambers were carved out by an ancient alien civilization, and that the Moon is in fact a giant observatory left behind to watch over Earth. Conspiracy theorists are already calling this “the proof” of extraterrestrial involvement in human history. The U.S. and Russia have both denied any prior knowledge of such findings, but are reportedly sending new missions to investigate further.\n",
    "\"\"\"\n",
    "label, proba = predict_fake_or_real(sample_article)\n",
    "print(f\"Sample Fake Article → Prediction: {label}\")\n",
    "print(f\"P(REAL) = {proba[0]:.2f}, P(FAKE) = {proba[1]:.2f}\\n\")"
   ]
  },
  {
   "cell_type": "code",
   "execution_count": 39,
   "metadata": {},
   "outputs": [
    {
     "name": "stdout",
     "output_type": "stream",
     "text": [
      "Test‐set Classification Report:\n",
      "\n",
      "              precision    recall  f1-score   support\n",
      "\n",
      "        REAL       0.95      0.93      0.94       648\n",
      "        FAKE       0.93      0.95      0.94       619\n",
      "\n",
      "    accuracy                           0.94      1267\n",
      "   macro avg       0.94      0.94      0.94      1267\n",
      "weighted avg       0.94      0.94      0.94      1267\n",
      "\n",
      "Confusion Matrix:\n",
      " [[604  44]\n",
      " [ 29 590]]\n"
     ]
    }
   ],
   "source": [
    "# 4) Evaluate on your held-out test set\n",
    "y_pred = clf.predict(x_test_vectorized)\n",
    "print(\"Test‐set Classification Report:\\n\")\n",
    "print(classification_report(y_test, y_pred, target_names=['REAL','FAKE']))\n",
    "print(\"Confusion Matrix:\\n\", confusion_matrix(y_test, y_pred))"
   ]
  },
  {
   "cell_type": "code",
   "execution_count": 44,
   "metadata": {},
   "outputs": [
    {
     "name": "stdout",
     "output_type": "stream",
     "text": [
      "Prediction: FAKE\n",
      "P(REAL) = 0.34, P(FAKE) = 0.66\n"
     ]
    }
   ],
   "source": [
    "# ─── Replace sample_article with this REAL news snippet ───────────────────────\n",
    "\n",
    "sample_article = \"\"\"\n",
    "EUROPEAN CENTRAL BANK KEEPS RATES STEADY AMID SLOWER INFLATION\n",
    "\n",
    "Frankfurt, May 8 (Reuters) – The European Central Bank (ECB) on Thursday held its key interest rates unchanged, citing signs that inflation in the euro zone is moderating. In a statement following its two-day policy meeting, the bank said it expects consumer price growth to dip to around 2.5% by the end of the year, down from a peak of 8.1% in October 2023.\n",
    "\n",
    "ECB President Christine Lagarde said the decision “strikes the right balance between supporting the recovery and ensuring price stability.” She added that the bank stands ready to adjust its stance should inflationary pressures re-emerge. The ECB maintained its deposit rate at 4.00% and its main refinancing operations rate at 4.50%, where they have stood since March.\n",
    "\n",
    "Markets had largely anticipated the hold, with analysts pointing to easing energy costs and subdued wage growth as factors bringing inflation closer to the ECB’s 2% target. Investors will now look ahead to U.S. inflation data due later this week for further cues on global monetary policy direction.\n",
    "\"\"\"\n",
    "\n",
    "# ─── Then re-run your calibrated tester cell ─────────────────────────────────\n",
    "\n",
    "label, proba = predict_fake_or_real(sample_article)\n",
    "print(f\"Prediction: {label}\")\n",
    "print(f\"P(REAL) = {proba[0]:.2f}, P(FAKE) = {proba[1]:.2f}\")\n"
   ]
  },
  {
   "cell_type": "markdown",
   "metadata": {},
   "source": [
    "### Trial 3"
   ]
  },
  {
   "cell_type": "code",
   "execution_count": 42,
   "metadata": {},
   "outputs": [
    {
     "name": "stdout",
     "output_type": "stream",
     "text": [
      "✅ Trained LogisticRegression + Calibration on bigram TF-IDF\n",
      "\n",
      "Sample Real Article → Prediction: FAKE\n",
      "P(REAL) = 0.34, P(FAKE) = 0.66\n",
      "\n",
      "Test‐set Classification Report:\n",
      "\n",
      "              precision    recall  f1-score   support\n",
      "\n",
      "        REAL       0.89      0.93      0.91       648\n",
      "        FAKE       0.92      0.89      0.90       619\n",
      "\n",
      "    accuracy                           0.91      1267\n",
      "   macro avg       0.91      0.91      0.91      1267\n",
      "weighted avg       0.91      0.91      0.91      1267\n",
      "\n",
      "Confusion Matrix:\n",
      " [[601  47]\n",
      " [ 71 548]]\n"
     ]
    }
   ],
   "source": [
    "# ─── Full Cell: Bigram + LogisticRegression + Calibration ───────────────────\n",
    "\n",
    "import pandas as pd\n",
    "from sklearn.feature_extraction.text import TfidfVectorizer\n",
    "from sklearn.linear_model import LogisticRegression\n",
    "from sklearn.calibration import CalibratedClassifierCV\n",
    "from sklearn.metrics import classification_report, confusion_matrix\n",
    "\n",
    "# --- 1) Rebuild vectorizer with bigrams and retrain\n",
    "vectorizer = TfidfVectorizer(stop_words='english',\n",
    "                             max_df=0.7,\n",
    "                             ngram_range=(1, 2))  # unigrams + bigrams\n",
    "\n",
    "# Fit on train, transform both\n",
    "x_train_vectorized = vectorizer.fit_transform(x_train)\n",
    "x_test_vectorized  = vectorizer.transform(x_test)\n",
    "\n",
    "# --- 2) Train calibrated LogisticRegression\n",
    "base_clf = LogisticRegression(max_iter=1000)\n",
    "clf = CalibratedClassifierCV(estimator=base_clf, cv=5)\n",
    "clf.fit(x_train_vectorized, y_train)\n",
    "\n",
    "print(\"✅ Trained LogisticRegression + Calibration on bigram TF-IDF\\n\")\n",
    "\n",
    "# --- 3) Define helper\n",
    "def predict_fake_or_real(text: str, threshold: float = 0.5):\n",
    "    \"\"\"\n",
    "    Returns:\n",
    "      - label: 'REAL' or 'FAKE'\n",
    "      - proba: array [P(REAL), P(FAKE)]\n",
    "    \"\"\"\n",
    "    X = vectorizer.transform([text])\n",
    "    proba = clf.predict_proba(X)[0]\n",
    "    label = 'FAKE' if proba[1] >= threshold else 'REAL'\n",
    "    return label, proba\n",
    "\n",
    "# --- 4) Test on your REAL ECB article\n",
    "sample_article = \"\"\"\n",
    "EUROPEAN CENTRAL BANK KEEPS RATES STEADY AMID SLOWER INFLATION\n",
    "\n",
    "Frankfurt, May 8 (Reuters) – The European Central Bank (ECB) on Thursday held its key interest rates unchanged, citing signs that inflation in the euro zone is moderating. In a statement following its two-day policy meeting, the bank said it expects consumer price growth to dip to around 2.5% by the end of the year, down from a peak of 8.1% in October 2023.\n",
    "\n",
    "ECB President Christine Lagarde said the decision “strikes the right balance between supporting the recovery and ensuring price stability.” She added that the bank stands ready to adjust its stance should inflationary pressures re-emerge. The ECB maintained its deposit rate at 4.00% and its main refinancing operations rate at 4.50%, where they have stood since March.\n",
    "\n",
    "Markets had largely anticipated the hold, with analysts pointing to easing energy costs and subdued wage growth as factors bringing inflation closer to the ECB’s 2% target. Investors will now look ahead to U.S. inflation data due later this week for further cues on global monetary policy direction.\n",
    "\"\"\"\n",
    "\n",
    "label, proba = predict_fake_or_real(sample_article)\n",
    "print(f\"Sample Real Article → Prediction: {label}\")\n",
    "print(f\"P(REAL) = {proba[0]:.2f}, P(FAKE) = {proba[1]:.2f}\\n\")\n",
    "\n",
    "# --- 5) Quick eval on your test set\n",
    "y_pred = clf.predict(x_test_vectorized)\n",
    "print(\"Test‐set Classification Report:\\n\")\n",
    "print(classification_report(y_test, y_pred, target_names=['REAL','FAKE']))\n",
    "print(\"Confusion Matrix:\\n\", confusion_matrix(y_test, y_pred))\n"
   ]
  },
  {
   "cell_type": "code",
   "execution_count": null,
   "metadata": {},
   "outputs": [],
   "source": []
  },
  {
   "cell_type": "code",
   "execution_count": null,
   "metadata": {},
   "outputs": [],
   "source": []
  }
 ],
 "metadata": {
  "colab": {
   "provenance": []
  },
  "kernelspec": {
   "display_name": "Python 3 (ipykernel)",
   "language": "python",
   "name": "python3"
  },
  "language_info": {
   "codemirror_mode": {
    "name": "ipython",
    "version": 3
   },
   "file_extension": ".py",
   "mimetype": "text/x-python",
   "name": "python",
   "nbconvert_exporter": "python",
   "pygments_lexer": "ipython3",
   "version": "3.12.3"
  }
 },
 "nbformat": 4,
 "nbformat_minor": 4
}
